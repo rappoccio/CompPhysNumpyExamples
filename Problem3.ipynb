{
 "cells": [
  {
   "cell_type": "markdown",
   "metadata": {},
   "source": [
    "# Using SWIG with the Point class\n",
    "\n",
    "Important! The `CompPhys` git directory must be parallel to this one. So it will look something like this: \n",
    "\n",
    "```\n",
    "current directory (/results)\n",
    "   |\n",
    "   |-- /results/CompPhys\n",
    "   |\n",
    "   |-- /results/technical-assignment-5-rappoccio\n",
    "```\n",
    "\n",
    "We will reuse code from `CompPhys`."
   ]
  },
  {
   "cell_type": "markdown",
   "metadata": {},
   "source": [
    "## The Point class\n",
    "\n",
    "Here, we reuse the Point class that we created in CompPhys. If you want to remind yourself, uncomment the following two commands"
   ]
  },
  {
   "cell_type": "code",
   "execution_count": 12,
   "metadata": {},
   "outputs": [
    {
     "name": "stdout",
     "output_type": "stream",
     "text": [
      "#ifndef Point3d_h\r\n",
      "#define Point3d_h\r\n",
      "\r\n",
      "#include <iostream>\r\n",
      "#include <fstream>\r\n",
      "#include \"Point.h\"\r\n",
      "\r\n",
      "class Point3d : public Point {\r\n",
      " public:\r\n",
      "  Point3d( double ix=0., double iy=0., double iz=0.);\r\n",
      "  virtual ~Point3d();\r\n",
      "\r\n",
      "  // Must be declared as a virtual override\r\n",
      "  virtual void print(std::ostream & out=std::cout) const override;\r\n",
      "\r\n",
      "  // x() and y() accessors are available through the base class Point\r\n",
      "  double z() const;\r\n",
      "\r\n",
      "  // Need to override all of these:\r\n",
      "  Point3d operator+( Point3d const & right ) const ;\r\n",
      "  Point3d operator-( Point3d const & right ) const ;\r\n",
      "  Point3d & operator+=( Point3d const & right ) ;\r\n",
      "  Point3d & operator-=( Point3d const & right ) ;\r\n",
      "\r\n",
      "  // Must be declared as a virtual override\r\n",
      "  virtual bool input( std::istream & in) override;\r\n",
      "\r\n",
      " private: \r\n",
      "  double z_;\r\n",
      "\r\n",
      "  // Doubles x_ and y_ are in the base class!\r\n",
      "\r\n",
      "};\r\n",
      "\r\n",
      "#endif\r\n"
     ]
    }
   ],
   "source": [
    "! cat ../CompPhys/ReviewCpp/InheritanceExample/Point3d.h"
   ]
  },
  {
   "cell_type": "code",
   "execution_count": 2,
   "metadata": {},
   "outputs": [
    {
     "name": "stdout",
     "output_type": "stream",
     "text": [
      "#include \"Point.h\"\r\n",
      "\r\n",
      "\r\n",
      "Point::Point( double ix, double iy) { \r\n",
      "  x_=ix;y_=iy;\r\n",
      "}\r\n",
      "\r\n",
      "Point::~Point(){}\r\n",
      "\r\n",
      "void Point::print() const {\r\n",
      "  std::cout << \"(\" << x_ << \",\" << y_ << \")\" << std::endl;\r\n",
      "};\r\n",
      "\r\n",
      "double Point::x() const { return x_;}\r\n",
      "double Point::y() const { return y_;}\r\n",
      "\r\n",
      "Point Point::operator+( Point const & right ) const {\r\n",
      "  Point retval( x_ + right.x_, y_ + right.y_ );\r\n",
      "  return retval;\r\n",
      "}\r\n",
      "\r\n",
      "Point Point::operator-( Point const & right ) const {\r\n",
      "  Point retval( x_ - right.x_, y_ - right.y_ );\r\n",
      "  return retval;\r\n",
      "}\r\n",
      "\r\n",
      "Point & Point::operator+=( Point const & right )  {\r\n",
      "  x_ += right.x_; y_ += right.y_ ;\r\n",
      "  return *this;\r\n",
      "}\r\n",
      "\r\n",
      "Point & Point::operator-=( Point const & right )  {\r\n",
      "  x_ -= right.x_; y_ -= right.y_ ;\r\n",
      "  return *this;\r\n",
      "}\r\n",
      "\r\n",
      "bool Point::input( std::istream & in ) {\r\n",
      "\r\n",
      "  std::string line;   \r\n",
      "  std::getline( in, line, ',');   \r\n",
      "  x_ = std::atof( line.c_str() ); \r\n",
      "  std::getline( in, line );   \r\n",
      "  y_ = std::atof( line.c_str() );       \r\n",
      "  if ( line == \"\") {      \r\n",
      "    return false;  \r\n",
      "  } \r\n",
      "  else {\r\n",
      "    return true; \r\n",
      "  }\r\n",
      "}\r\n"
     ]
    }
   ],
   "source": [
    "! cat ../CompPhys/ReviewCpp/ClassExample/Point.cc"
   ]
  },
  {
   "cell_type": "markdown",
   "metadata": {},
   "source": [
    "## The swig files\n",
    "\n",
    "Here, we're going to just include the `\"Point.h\"` file from above with the right syntax. Then we have a `\"setup.py\"` file to describe how to compile it. "
   ]
  },
  {
   "cell_type": "code",
   "execution_count": 3,
   "metadata": {},
   "outputs": [
    {
     "name": "stdout",
     "output_type": "stream",
     "text": [
      "%module point\r\n",
      "/* First: Include your own code.*/\r\n",
      "%{\r\n",
      "#include \"CompPhys/ReviewCpp/ClassExample/Point.h\"\r\n",
      "%}\r\n",
      "/* Next: get the class information*/\r\n",
      "\r\n",
      "%include \"CompPhys/ReviewCpp/ClassExample/Point.h\"\r\n"
     ]
    }
   ],
   "source": [
    "cat swig_point/point.i"
   ]
  },
  {
   "cell_type": "code",
   "execution_count": 4,
   "metadata": {},
   "outputs": [
    {
     "name": "stdout",
     "output_type": "stream",
     "text": [
      "#!/usr/bin/env python\r\n",
      "\r\n",
      "\"\"\"\r\n",
      "setup.py file for SWIG example\r\n",
      "\"\"\"\r\n",
      "\r\n",
      "from distutils.core import setup, Extension\r\n",
      "\r\n",
      "\r\n",
      "point_module = Extension('_point',\r\n",
      "                           sources=['../CompPhys/ReviewCpp/ClassExample/Point.cc', 'swig_point/point_wrap.cxx' ],\r\n",
      "                           extra_compile_args=[\"-std=c++11\", \"-I../\"],\r\n",
      "                           )\r\n",
      "\r\n",
      "setup (name = 'point',\r\n",
      "       version = '0.1',\r\n",
      "       author      = \"SWIG Docs\",\r\n",
      "       description = \"\"\"Simple swig point from docs\"\"\",\r\n",
      "       ext_modules = [point_module],\r\n",
      "       py_modules = [\"point\"],\r\n",
      "       )\r\n"
     ]
    }
   ],
   "source": [
    "cat swig_point/setup.py"
   ]
  },
  {
   "cell_type": "markdown",
   "metadata": {},
   "source": [
    "## Create the interface with SWIG\n",
    "\n",
    "Note! We have a function called `\"print\"`, which is a keyword, so we cannot use that. It will be renamed to `\"_print\"` with an underscore in the front. "
   ]
  },
  {
   "cell_type": "code",
   "execution_count": 5,
   "metadata": {},
   "outputs": [
    {
     "name": "stdout",
     "output_type": "stream",
     "text": [
      "../CompPhys/ReviewCpp/ClassExample/Point.h:11: Warning 314: 'print' is a python keyword, renaming to '_print'\r\n"
     ]
    }
   ],
   "source": [
    "! swig -c++ -python -I../ swig_point/point.i"
   ]
  },
  {
   "cell_type": "markdown",
   "metadata": {},
   "source": [
    "## Here's the compilation of the files"
   ]
  },
  {
   "cell_type": "code",
   "execution_count": 6,
   "metadata": {},
   "outputs": [
    {
     "name": "stdout",
     "output_type": "stream",
     "text": [
      "running build_ext\n",
      "building '_point' extension\n",
      "creating build\n",
      "creating build/CompPhys\n",
      "creating build/CompPhys/ReviewCpp\n",
      "creating build/CompPhys/ReviewCpp/ClassExample\n",
      "creating build/temp.linux-x86_64-3.7\n",
      "creating build/temp.linux-x86_64-3.7/swig_point\n",
      "x86_64-linux-gnu-gcc -pthread -DNDEBUG -g -fwrapv -O2 -Wall -g -fstack-protector-strong -Wformat -Werror=format-security -Wdate-time -D_FORTIFY_SOURCE=2 -fPIC -I/usr/include/python3.7m -c ../CompPhys/ReviewCpp/ClassExample/Point.cc -o build/temp.linux-x86_64-3.7/../CompPhys/ReviewCpp/ClassExample/Point.o -std=c++11 -I../\n",
      "x86_64-linux-gnu-gcc -pthread -DNDEBUG -g -fwrapv -O2 -Wall -g -fstack-protector-strong -Wformat -Werror=format-security -Wdate-time -D_FORTIFY_SOURCE=2 -fPIC -I/usr/include/python3.7m -c swig_point/point_wrap.cxx -o build/temp.linux-x86_64-3.7/swig_point/point_wrap.o -std=c++11 -I../\n",
      "x86_64-linux-gnu-g++ -pthread -shared -Wl,-O1 -Wl,-Bsymbolic-functions -Wl,-Bsymbolic-functions -Wl,-z,relro -Wl,-Bsymbolic-functions -Wl,-z,relro -g -fstack-protector-strong -Wformat -Werror=format-security -Wdate-time -D_FORTIFY_SOURCE=2 build/temp.linux-x86_64-3.7/../CompPhys/ReviewCpp/ClassExample/Point.o build/temp.linux-x86_64-3.7/swig_point/point_wrap.o -o /results/CompPhysNumpyExamples/_point.cpython-37m-x86_64-linux-gnu.so\n"
     ]
    }
   ],
   "source": [
    "! python swig_point/setup.py build_ext --inplace"
   ]
  },
  {
   "cell_type": "markdown",
   "metadata": {},
   "source": [
    "## Next setup the path\n",
    "\n",
    "We need to tell python where to find the libraries we just compiled. "
   ]
  },
  {
   "cell_type": "code",
   "execution_count": 7,
   "metadata": {},
   "outputs": [
    {
     "name": "stdout",
     "output_type": "stream",
     "text": [
      "['/results/CompPhysNumpyExamples', '/app/compphys_python', '/usr/lib/python37.zip', '/usr/lib/python3.7', '/usr/lib/python3.7/lib-dynload', '', '/usr/local/lib/python3.7/dist-packages', '/usr/lib/python3/dist-packages', '/usr/local/lib/python3.7/dist-packages/IPython/extensions', '/results/.ipython', '/results/CompPhysNumpyExamples/swig_point']\n"
     ]
    }
   ],
   "source": [
    "import sys\n",
    "import os\n",
    "\n",
    "sys.path.append( os.path.abspath(\"swig_point\") )\n",
    "\n",
    "print (sys.path)\n",
    "\n",
    "\n"
   ]
  },
  {
   "cell_type": "markdown",
   "metadata": {},
   "source": [
    "## Ready!\n",
    "\n",
    "We have the `Point` class (uppercase \"P\") in module \"point\" (lowercase \"p\"). \n"
   ]
  },
  {
   "cell_type": "code",
   "execution_count": 8,
   "metadata": {},
   "outputs": [],
   "source": [
    "from point import Point"
   ]
  },
  {
   "cell_type": "markdown",
   "metadata": {},
   "source": [
    "## Get help\n",
    "\n",
    "You can see what was generated by asking for help! "
   ]
  },
  {
   "cell_type": "code",
   "execution_count": 9,
   "metadata": {},
   "outputs": [
    {
     "name": "stdout",
     "output_type": "stream",
     "text": [
      "Help on module point:\n",
      "\n",
      "NAME\n",
      "    point\n",
      "\n",
      "DESCRIPTION\n",
      "    # This file was automatically generated by SWIG (http://www.swig.org).\n",
      "    # Version 3.0.12\n",
      "    #\n",
      "    # Do not make changes to this file unless you know what you are doing--modify\n",
      "    # the SWIG interface file instead.\n",
      "\n",
      "CLASSES\n",
      "    builtins.object\n",
      "        Point\n",
      "    \n",
      "    class Point(builtins.object)\n",
      "     |  Point(ix=0.0, iy=0.0)\n",
      "     |  \n",
      "     |  Methods defined here:\n",
      "     |  \n",
      "     |  __add__(self, right)\n",
      "     |  \n",
      "     |  __del__ lambda self\n",
      "     |  \n",
      "     |  __getattr__ lambda self, name\n",
      "     |  \n",
      "     |  __iadd__(self, right)\n",
      "     |  \n",
      "     |  __init__(self, ix=0.0, iy=0.0)\n",
      "     |      Initialize self.  See help(type(self)) for accurate signature.\n",
      "     |  \n",
      "     |  __isub__(self, right)\n",
      "     |  \n",
      "     |  __repr__ = _swig_repr(self)\n",
      "     |  \n",
      "     |  __setattr__ lambda self, name, value\n",
      "     |  \n",
      "     |  __sub__(self, right)\n",
      "     |  \n",
      "     |  input(self, arg2)\n",
      "     |  \n",
      "     |  x(self)\n",
      "     |  \n",
      "     |  y(self)\n",
      "     |  \n",
      "     |  ----------------------------------------------------------------------\n",
      "     |  Static methods defined here:\n",
      "     |  \n",
      "     |  __swig_destroy__ = delete_Point(...)\n",
      "     |  \n",
      "     |  ----------------------------------------------------------------------\n",
      "     |  Data descriptors defined here:\n",
      "     |  \n",
      "     |  __dict__\n",
      "     |      dictionary for instance variables (if defined)\n",
      "     |  \n",
      "     |  __weakref__\n",
      "     |      list of weak references to the object (if defined)\n",
      "     |  \n",
      "     |  ----------------------------------------------------------------------\n",
      "     |  Data and other attributes defined here:\n",
      "     |  \n",
      "     |  __swig_getmethods__ = {}\n",
      "     |  \n",
      "     |  __swig_setmethods__ = {}\n",
      "\n",
      "FUNCTIONS\n",
      "    Point_swigregister(...)\n",
      "\n",
      "FILE\n",
      "    /results/CompPhysNumpyExamples/swig_point/point.py\n",
      "\n",
      "\n"
     ]
    }
   ],
   "source": [
    "help(\"point\")"
   ]
  },
  {
   "cell_type": "markdown",
   "metadata": {},
   "source": [
    "## Do some math\n",
    "\n",
    "Here we can use our `operator+` class within python! Woohoo!"
   ]
  },
  {
   "cell_type": "code",
   "execution_count": 10,
   "metadata": {},
   "outputs": [],
   "source": [
    "p1 = Point(1,2)\n",
    "p2 = Point(2,3)\n",
    "p3 = p1 + p2"
   ]
  },
  {
   "cell_type": "code",
   "execution_count": 11,
   "metadata": {},
   "outputs": [
    {
     "name": "stdout",
     "output_type": "stream",
     "text": [
      "3.0\n"
     ]
    }
   ],
   "source": [
    "print(p3.x())"
   ]
  },
  {
   "cell_type": "markdown",
   "metadata": {},
   "source": [
    "# Problem 3: SWIG for Point3d\n"
   ]
  },
  {
   "cell_type": "markdown",
   "metadata": {},
   "source": [
    "## Problem 3a\n",
    "a. You will now repeat the steps above for the `Point3d` class in an interface called `point3d`. You are free to use the `Point3d` class with the inheritance as defined in the `CompPhys/ReviewCpp/InheritanceExample` folder, or write a simpler one. \n",
    "\n",
    "- Create `swig_point/point3d.i`\n",
    "- Create `swig_point/setup3d.py`\n",
    "- Create the interface with the `swig` command. \n",
    "- Compile with `setup3d.py` similarly to above.\n",
    "- Import `point3d`, create two 3-d points `v1` and `v2`, set them to `(1,2,3)` and `(4,5,6)`. Set a third point (`v3`) equal to their sum. \n",
    "\n"
   ]
  },
  {
   "cell_type": "code",
   "execution_count": null,
   "metadata": {},
   "outputs": [],
   "source": [
    "### YOUR CODE GOES HERE. "
   ]
  },
  {
   "cell_type": "markdown",
   "metadata": {},
   "source": [
    "## Problem 3b"
   ]
  },
  {
   "cell_type": "markdown",
   "metadata": {},
   "source": [
    "\n",
    "b. Write another file called `pointops` that will implement operations on `Point3d`. Define a function to compute the cross product of the two vectors with the following C++ interface:\n",
    "\n",
    "```\n",
    "Point3d cross( Point3d const & a, Point3d const & b);\n",
    "```\n",
    "- Create `swig_point/cross.i`\n",
    "- Create `swig_point/setup_cross.py`\n",
    "- Create the interface with the `swig` command. \n",
    "- Compile with `cross.py` similarly to above.\n",
    "- Then take the cross product of 3-d points `v1` and `v2` above. "
   ]
  },
  {
   "cell_type": "code",
   "execution_count": null,
   "metadata": {},
   "outputs": [],
   "source": [
    "### YOUR CODE GOES HERE. "
   ]
  }
 ],
 "metadata": {
  "kernelspec": {
   "display_name": "Python 3",
   "language": "python",
   "name": "python3"
  },
  "language_info": {
   "codemirror_mode": {
    "name": "ipython",
    "version": 3
   },
   "file_extension": ".py",
   "mimetype": "text/x-python",
   "name": "python",
   "nbconvert_exporter": "python",
   "pygments_lexer": "ipython3",
   "version": "3.7.4rc2"
  }
 },
 "nbformat": 4,
 "nbformat_minor": 2
}
